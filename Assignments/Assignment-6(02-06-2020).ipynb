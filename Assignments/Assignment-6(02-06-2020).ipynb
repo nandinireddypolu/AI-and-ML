{
 "cells": [
  {
   "cell_type": "markdown",
   "metadata": {},
   "source": [
    "# CSE - 221710315036 - NANDINIREDDY POLU\n"
   ]
  },
  {
   "cell_type": "code",
   "execution_count": 1,
   "metadata": {},
   "outputs": [
    {
     "name": "stdout",
     "output_type": "stream",
     "text": [
      "['?', '?', '?', '?', '?']\n",
      "Lives left:  9\n",
      "Guess a letter or the whole word : p\n",
      "Incorrect. You loose a life\n",
      "['?', '?', '?', '?', '?']\n",
      "Lives left:  8\n",
      "Guess a letter or the whole word : a\n",
      "['a', '?', '?', '?', '?']\n",
      "Lives left:  8\n",
      "Guess a letter or the whole word : t\n",
      "['a', '?', 't', '?', '?']\n",
      "Lives left:  8\n",
      "Guess a letter or the whole word : r\n",
      "['a', '?', 't', '?', 'r']\n",
      "Lives left:  8\n",
      "Guess a letter or the whole word : actor\n",
      "You Won! The sectret word was actor\n"
     ]
    }
   ],
   "source": [
    "import random\n",
    "lives=9\n",
    "words=['apple','brain','pizza','clock','teeth','shirt','actor','plane','hello']\n",
    "secret_word=random.choice(words)\n",
    "clue=list('?????')\n",
    "guessed_word=False\n",
    "def update_clue(guessed_char,secret_word,clue):\n",
    "    i=0;\n",
    "    while i<len(secret_word):\n",
    "        if guessed_char==secret_word[i]:\n",
    "            clue[i]=guessed_char\n",
    "        i+=1\n",
    "while(lives>0):\n",
    "    print(clue)\n",
    "    print('Lives left: ',lives)\n",
    "    guess=input('Guess a letter or the whole word : ')\n",
    "    if(guess==secret_word):\n",
    "        guessed_word=True\n",
    "        break\n",
    "    if(guess in secret_word):\n",
    "        update_clue(guess,secret_word,clue)\n",
    "    else:\n",
    "        print('Incorrect. You loose a life')\n",
    "        lives-=1\n",
    "if guessed_word:\n",
    "    print('You Won! The sectret word was '+secret_word)\n",
    "else :\n",
    "    print('You Lost! The sectret word was '+secret_word)\n",
    "    "
   ]
  },
  {
   "cell_type": "code",
   "execution_count": null,
   "metadata": {},
   "outputs": [],
   "source": []
  },
  {
   "cell_type": "code",
   "execution_count": null,
   "metadata": {},
   "outputs": [],
   "source": []
  }
 ],
 "metadata": {
  "kernelspec": {
   "display_name": "Python 3",
   "language": "python",
   "name": "python3"
  },
  "language_info": {
   "codemirror_mode": {
    "name": "ipython",
    "version": 3
   },
   "file_extension": ".py",
   "mimetype": "text/x-python",
   "name": "python",
   "nbconvert_exporter": "python",
   "pygments_lexer": "ipython3",
   "version": "3.7.4"
  }
 },
 "nbformat": 4,
 "nbformat_minor": 2
}
