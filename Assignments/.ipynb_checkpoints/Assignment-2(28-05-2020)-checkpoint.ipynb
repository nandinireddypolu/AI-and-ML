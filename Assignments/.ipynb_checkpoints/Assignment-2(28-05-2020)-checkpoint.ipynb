{
 "cells": [
  {
   "cell_type": "markdown",
   "metadata": {},
   "source": [
    "#  CSE-221710315036-POLU NANDINI REDDY\n"
   ]
  },
  {
   "cell_type": "code",
   "execution_count": 13,
   "metadata": {},
   "outputs": [
    {
     "name": "stdout",
     "output_type": "stream",
     "text": [
      "Enter a string: CSE-221710315036-NANDINI REDDY POLU\n",
      "Vowels: 7\n",
      "Consonant: 12\n",
      "Digit: 12\n",
      "Special Character: 4\n"
     ]
    }
   ],
   "source": [
    "# Question 1:\n",
    "##Accept a string from the user and count no.of vowels,consonants and special characters\n",
    "\n",
    "def countCharacterType(str):  \n",
    "    vowels = 0\n",
    "    consonant = 0\n",
    "    specialChar = 0\n",
    "    digit = 0\n",
    "    for i in range(0, len(str)):  \n",
    "          \n",
    "        ch = str[i]  \n",
    "  \n",
    "        if ( (ch >= 'a' and ch <= 'z') or (ch >= 'A' and ch <= 'Z') ):  \n",
    "            ch = ch.lower() \n",
    "            if (ch == 'a' or ch == 'e' or ch == 'i' or ch == 'o' or ch == 'u'): \n",
    "                vowels += 1\n",
    "            else: \n",
    "                consonant += 1\n",
    "          \n",
    "        elif (ch >= '0' and ch <= '9'): \n",
    "            digit += 1\n",
    "        else: \n",
    "            specialChar += 1\n",
    "      \n",
    "    print(\"Vowels:\", vowels) \n",
    "    print(\"Consonant:\", consonant)  \n",
    "    print(\"Digit:\", digit)  \n",
    "    print(\"Special Character:\", specialChar)  \n",
    "str = input(\"Enter a string: \")\n",
    "countCharacterType(str)  \n"
   ]
  },
  {
   "cell_type": "markdown",
   "metadata": {},
   "source": [
    "# Question 2:\n",
    "### count the no.of pairs of a in the given string(Infosys InfyTQ)\n",
    "     string →  \"abbaaccbbaaa\"\n",
    "     output →  2\n"
   ]
  },
  {
   "cell_type": "code",
   "execution_count": 11,
   "metadata": {},
   "outputs": [
    {
     "name": "stdout",
     "output_type": "stream",
     "text": [
      "Enter a string: abbaaccbbaaa\n",
      "2\n"
     ]
    }
   ],
   "source": [
    "str=input(\"Enter a string: \")\n",
    "print(str.count('aa'))"
   ]
  },
  {
   "cell_type": "code",
   "execution_count": null,
   "metadata": {},
   "outputs": [],
   "source": []
  },
  {
   "cell_type": "markdown",
   "metadata": {},
   "source": [
    "# Question 3:\n",
    "    Test case1:\n",
    "        string →  \"((((()()()))))()\"\n",
    "        output →  8\n",
    "    Test case2:\n",
    "        string →  \"((()))()\"\n",
    "        Output →  4\n"
   ]
  },
  {
   "cell_type": "code",
   "execution_count": 9,
   "metadata": {},
   "outputs": [
    {
     "name": "stdout",
     "output_type": "stream",
     "text": [
      "Enter a string: ()()(()\n",
      "3\n"
     ]
    }
   ],
   "source": [
    "str = input(\"Enter a string: \")\n",
    "a=\"(\"\n",
    "b=\")\"\n",
    "open,close=0,0\n",
    "for i in range(0, len(str)):\n",
    "    ch = str[i]\n",
    "    if(ch==a):\n",
    "        open+=1\n",
    "    elif(ch==b):\n",
    "        close+=1\n",
    "if(open==close):\n",
    "    print(close)\n",
    "else:\n",
    "    print(close)    "
   ]
  },
  {
   "cell_type": "markdown",
   "metadata": {},
   "source": [
    "# Question 4:\n",
    "### Read the input as two limits and Print the output as Palindrome count between the two limits\n",
    "### Example #1; Input : 1 10 Output : 9\n",
    "### Example #2: Input : 1 100 Output : 18\n"
   ]
  },
  {
   "cell_type": "code",
   "execution_count": 21,
   "metadata": {},
   "outputs": [
    {
     "name": "stdout",
     "output_type": "stream",
     "text": [
      "Enter the Minimum Value : 1\n",
      "Enter the Maximum Value : 100\n",
      "18  "
     ]
    }
   ],
   "source": [
    "minimum = int(input(\"Enter the Minimum Value : \"))\n",
    "maximum = int(input(\"Enter the Maximum Value : \"))\n",
    "count=0\n",
    "for i in range(minimum, maximum + 1):\n",
    "    temp = i\n",
    "    rev = 0\n",
    "    while(temp > 0):\n",
    "        r = temp % 10\n",
    "        rev = (rev * 10) + r\n",
    "        temp = temp //10\n",
    "\n",
    "    if(i == rev):\n",
    "        count+=1\n",
    "print(count, end = '  ')"
   ]
  },
  {
   "cell_type": "markdown",
   "metadata": {},
   "source": [
    "# Question 5:\n",
    "\n",
    "##### Accept a number as an input and check whether the given number is palindrome or not\n",
    "##### if it is a palindrome number print the number on the screen\n",
    "##### if it is not a palindrome number reverse that number and add it to previous number repeat this until will get a palindrome number and print that palindrome number on the screen\n",
    "     input: 127\n",
    "     output: 848\n"
   ]
  },
  {
   "cell_type": "code",
   "execution_count": 24,
   "metadata": {},
   "outputs": [
    {
     "name": "stdout",
     "output_type": "stream",
     "text": [
      "Enter a Number:  127\n",
      "848\n"
     ]
    }
   ],
   "source": [
    "def palindrome(n):\n",
    "    temp = n\n",
    "    rev = 0\n",
    "    while(temp > 0):\n",
    "        r = temp % 10\n",
    "        rev = (rev * 10) + r\n",
    "        temp = temp //10\n",
    "    if(rev==n):\n",
    "        print(n)\n",
    "    else:\n",
    "        n=n+rev\n",
    "        palindrome(n)\n",
    "n=int(input(\"Enter a Number:  \"))\n",
    "palindrome(n)"
   ]
  },
  {
   "cell_type": "markdown",
   "metadata": {},
   "source": [
    "# Question 6:\n",
    "input:orange  →   output : puboif\n"
   ]
  },
  {
   "cell_type": "code",
   "execution_count": 2,
   "metadata": {},
   "outputs": [
    {
     "name": "stdout",
     "output_type": "stream",
     "text": [
      "Enter a string :orange\n",
      "p u b o i f "
     ]
    }
   ],
   "source": [
    "str = input(\"Enter a string :\")  \n",
    "for i in str:\n",
    "    if (i == 'a' or i == 'e' or i == 'i' or i == 'o' or i == 'u'): \n",
    "        s1=i\n",
    "        s2=chr(ord(s1)+1)\n",
    "        print(s2,end = \" \")\n",
    "    elif(i>'a' and i<'e'):\n",
    "        print(\"e\",end = \" \")\n",
    "    elif(i>'e' and i<'i'):\n",
    "        print(\"i\",end = \" \")\n",
    "    elif(i>'i' and i<'o'):\n",
    "        print(\"o\",end = \" \")\n",
    "    elif(i>'o' and i<'u'):\n",
    "        print(\"u\",end = \" \")\n",
    "    else :\n",
    "        print(\"a\",end = \" \")\n",
    "    "
   ]
  },
  {
   "cell_type": "markdown",
   "metadata": {},
   "source": [
    "# Question 7:\n",
    "Accept input as a string and display sum of digits as the output \n",
    "input:Appli123cation456 \n",
    "Output: 21\n"
   ]
  },
  {
   "cell_type": "code",
   "execution_count": 35,
   "metadata": {},
   "outputs": [
    {
     "name": "stdout",
     "output_type": "stream",
     "text": [
      "Enter a string: Appli123cation456\n",
      "21\n"
     ]
    }
   ],
   "source": [
    " def sum_digits_string(str):\n",
    "    count = 0\n",
    "    for i in str:\n",
    "        if i.isdigit() == True:\n",
    "            z = int(i)\n",
    "            count = count + z\n",
    "\n",
    "    return count\n",
    "\n",
    "str=input(\"Enter a string: \")\n",
    "print(sum_digits_string(str))\n"
   ]
  },
  {
   "cell_type": "markdown",
   "metadata": {},
   "source": [
    "# Question 8:\n",
    "Write a program to prompt for a score between 0.0 and 1.0. If the score is out of range, print an error. If the score is between 0.0 and 1.0, print a grade using the following table:\n",
    "Score Grade\n",
    "          >= 0.9 A\n",
    "          >= 0.8 B\n",
    "          >= 0.7 C\n",
    "          >= 0.6 D\n",
    "          < 0.6 F\n",
    "If the user enters a value out of range, print a suitable error message and exit. For the test, enter a score of 0.85\n"
   ]
  },
  {
   "cell_type": "code",
   "execution_count": 30,
   "metadata": {
    "scrolled": true
   },
   "outputs": [
    {
     "name": "stdout",
     "output_type": "stream",
     "text": [
      "Enter score : 0.85\n",
      "B\n"
     ]
    }
   ],
   "source": [
    "score=float(input(\"Enter score : \"))\n",
    "if(score>=0.9):\n",
    "    print(\"A\")\n",
    "elif(score>=0.8):\n",
    "    print(\"B\")\n",
    "elif(score>=0.7):\n",
    "    print(\"C\")\n",
    "elif(score>=0.6):\n",
    "    print(\"D\")\n",
    "elif(score<0.6):\n",
    "    print(\"F\")\n",
    "else :\n",
    "    print(\"Invalid score\")\n",
    "    exit()"
   ]
  },
  {
   "cell_type": "markdown",
   "metadata": {},
   "source": [
    "# Question 9:\n",
    "Write a Python program which iterates the integers from 1 to 50. For multiples of three print \"Fizz\" instead of the number and for the multiples of five print \"Buzz\". For numbers which are multiples of both three and five print \"FizzBuzz\".\n",
    "Sample Output :\n",
    "-fizzbuzz\n",
    "-1\n",
    "-2\n",
    "-fizz\n",
    "-4\n",
    "-buzz\n"
   ]
  },
  {
   "cell_type": "code",
   "execution_count": 36,
   "metadata": {},
   "outputs": [
    {
     "name": "stdout",
     "output_type": "stream",
     "text": [
      "Enter a Number : 5\n",
      "FizzBuzz\n",
      "1\n",
      "2\n",
      "Fizz\n",
      "4\n",
      "Buzz\n"
     ]
    }
   ],
   "source": [
    " n=int(input(\"Enter a Number : \"))\n",
    "for i in range(0,n+1):\n",
    "    if(i%3==0 and i%5==0):\n",
    "        print(\"FizzBuzz\")\n",
    "    elif(i%3==0):\n",
    "        print(\"Fizz\")\n",
    "    elif(i%5==0):\n",
    "        print(\"Buzz\")\n",
    "    else :\n",
    "        print(i)"
   ]
  },
  {
   "cell_type": "markdown",
   "metadata": {},
   "source": [
    "# Question 10:\n",
    "Write a Python program to find the median of three values.\n",
    "Expected Output:\n",
    "Input first number: 26                                            \n",
    "Input second number: 15                                                \n",
    "Input third number: 29                                                  \n",
    "The median is 26\n",
    "\n"
   ]
  },
  {
   "cell_type": "code",
   "execution_count": 34,
   "metadata": {},
   "outputs": [
    {
     "name": "stdout",
     "output_type": "stream",
     "text": [
      "first number:26\n",
      "Second number:15\n",
      "Third number:29\n",
      "The median is  26\n"
     ]
    }
   ],
   "source": [
    "list1[0]=int(input(\"first number:\"))\n",
    "list1[1]=int(input(\"Second number:\"))\n",
    "list1[2]=int(input(\"Third number:\"))\n",
    "list1.sort()\n",
    "print(\"The median is \",list1[1])\n"
   ]
  },
  {
   "cell_type": "code",
   "execution_count": null,
   "metadata": {},
   "outputs": [],
   "source": []
  }
 ],
 "metadata": {
  "kernelspec": {
   "display_name": "Python 3",
   "language": "python",
   "name": "python3"
  },
  "language_info": {
   "codemirror_mode": {
    "name": "ipython",
    "version": 3
   },
   "file_extension": ".py",
   "mimetype": "text/x-python",
   "name": "python",
   "nbconvert_exporter": "python",
   "pygments_lexer": "ipython3",
   "version": "3.7.4"
  }
 },
 "nbformat": 4,
 "nbformat_minor": 2
}
