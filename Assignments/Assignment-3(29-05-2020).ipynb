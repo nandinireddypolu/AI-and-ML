{
 "cells": [
  {
   "cell_type": "markdown",
   "metadata": {},
   "source": [
    "# CSE-221710315036-POLU NANDINI REDDY\n"
   ]
  },
  {
   "cell_type": "markdown",
   "metadata": {},
   "source": [
    "# Question 1:\n",
    "Create a function to find Factorial of a number using Recursion\n"
   ]
  },
  {
   "cell_type": "code",
   "execution_count": 1,
   "metadata": {},
   "outputs": [
    {
     "name": "stdout",
     "output_type": "stream",
     "text": [
      "Enter a num :5\n"
     ]
    },
    {
     "data": {
      "text/plain": [
       "120"
      ]
     },
     "execution_count": 1,
     "metadata": {},
     "output_type": "execute_result"
    }
   ],
   "source": [
    "def factorial(n):\n",
    "    a=1\n",
    "    while n!=0 :\n",
    "        a*=n\n",
    "        n-=1\n",
    "    return a\n",
    "factorial(int(input('Enter a num :')))"
   ]
  },
  {
   "cell_type": "markdown",
   "metadata": {},
   "source": [
    "# Question 2:\n",
    "Create a function and display ‘n’ Fibonacci numbers using Recursion\n"
   ]
  },
  {
   "cell_type": "code",
   "execution_count": 5,
   "metadata": {},
   "outputs": [
    {
     "name": "stdout",
     "output_type": "stream",
     "text": [
      "Enter a number : 8\n",
      "Fibonacci sequence is:\n",
      "0 1 1 2 3 5 8 13 "
     ]
    }
   ],
   "source": [
    "def recur_fibo(n):\n",
    "    if n <= 1:\n",
    "        return n\n",
    "    else:\n",
    "        return(recur_fibo(n-1) + recur_fibo(n-2))\n",
    "\n",
    "n=int(input(\"Enter a number : \"))\n",
    "if n <= 0:\n",
    "    print(\"Plese enter a positive integer\")\n",
    "else:\n",
    "    print(\"Fibonacci sequence is:\")\n",
    "    for i in range(n):\n",
    "        print(recur_fibo(i),end=\" \")"
   ]
  },
  {
   "cell_type": "markdown",
   "metadata": {},
   "source": [
    "# Question 3:\n",
    "Print sum of list of elements without using sum() function\n"
   ]
  },
  {
   "cell_type": "code",
   "execution_count": 9,
   "metadata": {},
   "outputs": [
    {
     "name": "stdout",
     "output_type": "stream",
     "text": [
      "Enter no. of elements 5\n",
      "1\n",
      "2\n",
      "3\n",
      "4\n",
      "5\n",
      "sum of list of elements is:  15\n"
     ]
    }
   ],
   "source": [
    "l1=[]\n",
    "a=int(input(\"Enter no. of elements \"))\n",
    "add=0\n",
    "for i in range(a) :\n",
    "    l1.append(int(input()))\n",
    "    add+=l1[i]\n",
    "print(\"sum of list of elements is: \",add)"
   ]
  },
  {
   "cell_type": "markdown",
   "metadata": {},
   "source": [
    "# Question 4:\n",
    "print only even numbers from the list\n"
   ]
  },
  {
   "cell_type": "code",
   "execution_count": 14,
   "metadata": {},
   "outputs": [
    {
     "name": "stdout",
     "output_type": "stream",
     "text": [
      "Enter no. of elements 5\n",
      "1\n",
      "2\n",
      "3\n",
      "4\n",
      "5\n",
      "Even numbers from the list are :\n",
      "2 4 "
     ]
    }
   ],
   "source": [
    "l2=[]\n",
    "a=int(input(\"Enter no. of elements \"))\n",
    "for i in range(a) :\n",
    "    l2.append(int(input()))\n",
    "print(\"Even numbers from the list are :\")\n",
    "for i in range(a) :\n",
    "    if(l2[i]%2==0):\n",
    "        print(l2[i],end =\" \")"
   ]
  },
  {
   "cell_type": "markdown",
   "metadata": {},
   "source": [
    "# Question 5:\n",
    "Write a Python program to get the smallest number from a list and display index of smallest element of the list\n"
   ]
  },
  {
   "cell_type": "code",
   "execution_count": 17,
   "metadata": {},
   "outputs": [
    {
     "name": "stdout",
     "output_type": "stream",
     "text": [
      "Enter no. of elements 3\n",
      "15\n",
      "63\n",
      "45\n",
      "The index of smallest element of the list 0\n"
     ]
    }
   ],
   "source": [
    "l3=[]\n",
    "a=int(input(\"Enter no. of elements \"))\n",
    "for i in range(a) :\n",
    "    l3.append(int(input()))\n",
    "print(\"The index of smallest element of the list\",l3.index(min(l3)))"
   ]
  },
  {
   "cell_type": "markdown",
   "metadata": {},
   "source": [
    "# Question 6:\n",
    "Write a Python function that checks whether a passed string is palindrome or not.\n"
   ]
  },
  {
   "cell_type": "code",
   "execution_count": 18,
   "metadata": {},
   "outputs": [
    {
     "name": "stdout",
     "output_type": "stream",
     "text": [
      "Enter a num :145\n",
      "Not a palindrome\n"
     ]
    }
   ],
   "source": [
    "def palindrome(x):\n",
    "    a=0\n",
    "    n=x\n",
    "    while x!=0:\n",
    "        a=(a*10)+x%10\n",
    "        x=x//10\n",
    "    if(a==n):\n",
    "        print(\"Palindrome\")\n",
    "    else :\n",
    "        print(\"Not a palindrome\")\n",
    "palindrome(int(input('Enter a num :')))"
   ]
  },
  {
   "cell_type": "markdown",
   "metadata": {},
   "source": [
    "# Question 7:\n",
    "Write a Python program to count the number of even and odd numbers from a series of numbers. \n",
    "Sample numbers : numbers = [1, 2, 3, 4, 5, 6, 7, 8, 9]\n",
    "Expected Output :\n",
    "Number of even numbers : 4\n",
    "Number of odd numbers : 5\n"
   ]
  },
  {
   "cell_type": "code",
   "execution_count": 22,
   "metadata": {},
   "outputs": [
    {
     "name": "stdout",
     "output_type": "stream",
     "text": [
      "Enter no. of elements 9\n",
      "1\n",
      "2\n",
      "3\n",
      "4\n",
      "5\n",
      "6\n",
      "7\n",
      "8\n",
      "9\n",
      "Number of even numbers : 4\n",
      "Number of odd numbers : 5\n"
     ]
    }
   ],
   "source": [
    "numbers=[]\n",
    "a=int(input(\"Enter no. of elements \"))\n",
    "even=0\n",
    "odd=0\n",
    "for i in range(a) :\n",
    "    numbers.append(int(input()))\n",
    "    if(numbers[i]%2==0):\n",
    "        even+=1\n",
    "    else :\n",
    "        odd+=1\n",
    "print(\"Number of even numbers :\",even)\n",
    "print(\"Number of odd numbers :\",odd)"
   ]
  },
  {
   "cell_type": "markdown",
   "metadata": {},
   "source": [
    "# Question 8:\n",
    "Write a Python program that prints all the numbers from 0 to 6 except 3 and 6.\n",
    "Note : Use 'continue' statement.\n",
    "Expected Output : 0 1 2 4 5\n"
   ]
  },
  {
   "cell_type": "code",
   "execution_count": 27,
   "metadata": {},
   "outputs": [
    {
     "name": "stdout",
     "output_type": "stream",
     "text": [
      "0 1 2 4 5 "
     ]
    }
   ],
   "source": [
    "for i in range(0,7):\n",
    "    if(i%3==0 and i!=0):\n",
    "        continue\n",
    "    else :\n",
    "        print(i,end = \" \")"
   ]
  },
  {
   "cell_type": "markdown",
   "metadata": {},
   "source": [
    "# Question 9:\n",
    "Write a python function to check whether the given number is prime or not\n"
   ]
  },
  {
   "cell_type": "code",
   "execution_count": 35,
   "metadata": {},
   "outputs": [
    {
     "name": "stdout",
     "output_type": "stream",
     "text": [
      "Enter a number: 23\n",
      "23 is a prime number\n"
     ]
    }
   ],
   "source": [
    "num = int(input(\"Enter a number: \"))  \n",
    "  \n",
    "if num > 1:  \n",
    "    for i in range(2,num//2):  \n",
    "        if (num % i) == 0: \n",
    "            print(num,\"is not a prime number\")  \n",
    "            break  \n",
    "    else:  \n",
    "        print(num,\"is a prime number\")  \n",
    "         \n",
    "else:  \n",
    "    print(num,\"is not a prime number\")  "
   ]
  },
  {
   "cell_type": "markdown",
   "metadata": {},
   "source": [
    "# Question 10:\n",
    "Write a python function to check whether the given number is Adam number or not\n",
    "Example: \n",
    "Input : 12\n",
    "Output : Adam Number\n",
    "\n",
    "Explanation: 12*12 = 144\n",
    "Reverse of 12 is 21 → 21*21 =441\n",
    "Reverse of 144 == 441\n"
   ]
  },
  {
   "cell_type": "code",
   "execution_count": 51,
   "metadata": {},
   "outputs": [
    {
     "name": "stdout",
     "output_type": "stream",
     "text": [
      "Enter a number:12\n",
      " Adam number\n"
     ]
    }
   ],
   "source": [
    "n =input(\"Enter a number:\")\n",
    "rev=number[::-1]\n",
    "sqr=int(n)**2\n",
    "reverse=int(rev )**2\n",
    "if int(sqr )==int(str(reverse)[::-1]):\n",
    "    print(\" Adam number\")\n",
    "else:\n",
    "    print(\" Not an Adam number\")\n"
   ]
  },
  {
   "cell_type": "code",
   "execution_count": null,
   "metadata": {},
   "outputs": [],
   "source": []
  }
 ],
 "metadata": {
  "kernelspec": {
   "display_name": "Python 3",
   "language": "python",
   "name": "python3"
  },
  "language_info": {
   "codemirror_mode": {
    "name": "ipython",
    "version": 3
   },
   "file_extension": ".py",
   "mimetype": "text/x-python",
   "name": "python",
   "nbconvert_exporter": "python",
   "pygments_lexer": "ipython3",
   "version": "3.7.4"
  }
 },
 "nbformat": 4,
 "nbformat_minor": 2
}
