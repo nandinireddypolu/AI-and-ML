{
 "cells": [
  {
   "cell_type": "markdown",
   "metadata": {},
   "source": [
    "# CSE-221710315036-POLU NANDINI REDDY"
   ]
  },
  {
   "cell_type": "markdown",
   "metadata": {},
   "source": [
    "# Question 1:\n",
    "Count the no.of words,no.of letters,no.of lines available in your file\n"
   ]
  },
  {
   "cell_type": "code",
   "execution_count": 10,
   "metadata": {},
   "outputs": [
    {
     "name": "stdout",
     "output_type": "stream",
     "text": [
      "no. of characters : 44\n",
      "no. of words : 7\n",
      "This is the number of lines in the file:  1\n"
     ]
    }
   ],
   "source": [
    "f=open(\"data.txt\",'r')\n",
    "d=f.read()\n",
    "print(\"no. of characters :\",len(d))\n",
    "print(\"no. of words :\",len(d.split()))\n",
    "Counter = 0 \n",
    "CoList = d.split(\"\\n\") \n",
    "  \n",
    "for i in CoList: \n",
    "    if i: \n",
    "        Counter += 1\n",
    "          \n",
    "print(\"This is the number of lines in the file: \",Counter) \n",
    "f.close()"
   ]
  },
  {
   "cell_type": "markdown",
   "metadata": {},
   "source": [
    "# Question 2:\n",
    "Copy the content of one file to another\n"
   ]
  },
  {
   "cell_type": "code",
   "execution_count": 11,
   "metadata": {},
   "outputs": [],
   "source": [
    "with open(\"data.txt\") as f:\n",
    "    with open(\"sample.txt\", \"w\") as f1:\n",
    "        for line in f:\n",
    "            f1.write(line)"
   ]
  },
  {
   "cell_type": "markdown",
   "metadata": {},
   "source": [
    "# Question 3:\n",
    "Display the words starting with letter 'p'\n"
   ]
  },
  {
   "cell_type": "code",
   "execution_count": 25,
   "metadata": {},
   "outputs": [
    {
     "name": "stdout",
     "output_type": "stream",
     "text": [
      "words starting with P: Python!!\n"
     ]
    }
   ],
   "source": [
    "f=open(\"data.txt\",\"r\")\n",
    "data=f.read()\n",
    "for i in data.split():\n",
    "    if i.startswith('P'):\n",
    "        print(\"words starting with P:\",i)"
   ]
  },
  {
   "cell_type": "markdown",
   "metadata": {},
   "source": [
    "# Question 4:\n",
    "Rename and remove files\n"
   ]
  },
  {
   "cell_type": "code",
   "execution_count": 21,
   "metadata": {},
   "outputs": [],
   "source": [
    "import os\n",
    "os.rename(\"sample.txt\",\"sample1.txt\")\n",
    "os.remove(\"sample1.txt\")"
   ]
  },
  {
   "cell_type": "markdown",
   "metadata": {},
   "source": [
    "# Question 5:\n",
    "    Create a folder \n",
    "    Goto that folder and create 5 no.of files\n",
    "    All the file names should be unique\n",
    "    Add some content into the file and the content in all the files should be unique\n",
    "    File size should be 512bits\n"
   ]
  },
  {
   "cell_type": "code",
   "execution_count": 28,
   "metadata": {},
   "outputs": [
    {
     "name": "stdout",
     "output_type": "stream",
     "text": [
      "[WinError 21] The device is not ready: 'D:/Python projects / demo'\n"
     ]
    }
   ],
   "source": [
    "import os\n",
    "os.mkdir(\"python\")\n",
    "for i in range(5):\n",
    "    file_name = \" \"\n",
    "    open(\"c://python//file name\")\n",
    "    for j in range(512):\n",
    "        f.write(\"character\")\n"
   ]
  },
  {
   "cell_type": "code",
   "execution_count": null,
   "metadata": {},
   "outputs": [],
   "source": []
  }
 ],
 "metadata": {
  "kernelspec": {
   "display_name": "Python 3",
   "language": "python",
   "name": "python3"
  },
  "language_info": {
   "codemirror_mode": {
    "name": "ipython",
    "version": 3
   },
   "file_extension": ".py",
   "mimetype": "text/x-python",
   "name": "python",
   "nbconvert_exporter": "python",
   "pygments_lexer": "ipython3",
   "version": "3.7.4"
  }
 },
 "nbformat": 4,
 "nbformat_minor": 2
}
