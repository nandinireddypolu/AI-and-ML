{
 "cells": [
  {
   "cell_type": "markdown",
   "metadata": {},
   "source": [
    "### STRINGS\n",
    "1. \"  \"  or '  ' (characters)--->'a'\n",
    "2. immutable --->we cannot do any changes\n",
    "3. Collection of characters enclosed by quotation marks--->iterable object"
   ]
  },
  {
   "cell_type": "code",
   "execution_count": 3,
   "metadata": {},
   "outputs": [
    {
     "name": "stdout",
     "output_type": "stream",
     "text": [
      "<class 'str'> <class 'str'>\n"
     ]
    }
   ],
   "source": [
    "s1 = \"Hello\"\n",
    "s2 = '  Python Class'\n",
    "print(type(s1),type(s2))"
   ]
  },
  {
   "cell_type": "code",
   "execution_count": 9,
   "metadata": {},
   "outputs": [
    {
     "name": "stdout",
     "output_type": "stream",
     "text": [
      "Hello  Python Class\n",
      "HelloHelloHello\n",
      "o\n",
      "o\n",
      "llo\n"
     ]
    }
   ],
   "source": [
    "#operators : +,*(repitition),[](slice),#[start:stop]\n",
    "print(s1 + s2) #concatination\n",
    "print(s1 * 3)#repitition\n",
    "print(s1[4])#slicing\n",
    "print(s1[-1])#slicing\n",
    "print(s1[2:])#slicing with limit \n"
   ]
  },
  {
   "cell_type": "code",
   "execution_count": 11,
   "metadata": {},
   "outputs": [
    {
     "name": "stdout",
     "output_type": "stream",
     "text": [
      "Hello\n",
      "Hello\n"
     ]
    }
   ],
   "source": [
    "print(s1[0:5])\n",
    "print(s1[:])"
   ]
  },
  {
   "cell_type": "code",
   "execution_count": 12,
   "metadata": {},
   "outputs": [
    {
     "name": "stdout",
     "output_type": "stream",
     "text": [
      "Hlo\n"
     ]
    }
   ],
   "source": [
    "print(s1[::2])#alternate"
   ]
  },
  {
   "cell_type": "code",
   "execution_count": 19,
   "metadata": {},
   "outputs": [
    {
     "name": "stdout",
     "output_type": "stream",
     "text": [
      "Enter the string   abcba\n",
      "Palindrome\n"
     ]
    }
   ],
   "source": [
    "#Accept a string from user and check palindrome or not\n",
    "s = input(\"Enter the string   \")\n",
    "#reverse  of str is str[::-1]\n",
    "if(s==s[::-1]):#original = reverse\n",
    "    print(\"Palindrome\")\n",
    "else:\n",
    "    print(\"Not A Palindrome\")"
   ]
  },
  {
   "cell_type": "code",
   "execution_count": 21,
   "metadata": {},
   "outputs": [
    {
     "name": "stdout",
     "output_type": "stream",
     "text": [
      "enter a number999\n",
      "Number is Palindrome\n"
     ]
    }
   ],
   "source": [
    "n = int(input(\"enter a number\"))\n",
    "if str(n) == str(n)[::-1]:\n",
    "      print(\"Number is Palindrome\")\n",
    "else:\n",
    "    print(\"Number is Not A Palindrome\")\n"
   ]
  },
  {
   "cell_type": "code",
   "execution_count": 24,
   "metadata": {},
   "outputs": [
    {
     "name": "stdout",
     "output_type": "stream",
     "text": [
      "True\n",
      "False\n",
      "True\n",
      "False\n"
     ]
    }
   ],
   "source": [
    "s4 =\"python class\"\n",
    "print(\"on\" in s4)\n",
    "print(\"ds\" in s4)\n",
    "print(\"es\" not in s4)\n",
    "print(\"th\" not in s4)"
   ]
  },
  {
   "cell_type": "markdown",
   "metadata": {},
   "source": [
    "### BUILT IN FUNCTIONS\n",
    "1. len()--->/length of the string\n",
    "2. max()--->/maximum value of string\n",
    "3. min()--->/minimum value of string\n",
    "4. str()--->/converting any data type to string\n"
   ]
  },
  {
   "cell_type": "code",
   "execution_count": 26,
   "metadata": {},
   "outputs": [
    {
     "name": "stdout",
     "output_type": "stream",
     "text": [
      "5\n",
      "o\n",
      "H\n",
      "c\n",
      "1\n"
     ]
    }
   ],
   "source": [
    "s5 = \"Hello\"\n",
    "s1 =\"abc123\"\n",
    "print(len(s5))\n",
    "print(max(s5))\n",
    "print(min(s5))\n",
    "print(max(s1))\n",
    "print(min(s1))"
   ]
  },
  {
   "cell_type": "code",
   "execution_count": 32,
   "metadata": {},
   "outputs": [
    {
     "data": {
      "text/plain": [
       "97"
      ]
     },
     "execution_count": 32,
     "metadata": {},
     "output_type": "execute_result"
    }
   ],
   "source": [
    "ord('a')\n",
    "#gives Ascii value"
   ]
  },
  {
   "cell_type": "code",
   "execution_count": 29,
   "metadata": {},
   "outputs": [
    {
     "data": {
      "text/plain": [
       "'a'"
      ]
     },
     "execution_count": 29,
     "metadata": {},
     "output_type": "execute_result"
    }
   ],
   "source": [
    "chr(97) # char of that value"
   ]
  },
  {
   "cell_type": "markdown",
   "metadata": {},
   "source": [
    "### Built In METHOD:\n",
    "1. capitalized method :\n",
    "   capitalize()\n",
    "2. isalpha--->Return True if string is alphabets\n",
    "   index(),\n",
    "3. isdigit()-->Return True if string is numeric\n",
    "4. isalnum()-->Return True if string is alphabet or numeric or both\n",
    "5. isupper()-->return true if all are Uppercase\n",
    "6. islower()-->return true if all are Lowercase \n",
    "7. upper()---->converts into upper case\n",
    "8. lower()---->converts into lower case\n",
    "9. swapcase()--->conets lower to upper and upper to lowercase\n",
    "10. count()--->return frequency\n",
    "11. startswith()\n",
    "12. find()\n",
    "13. replace()--->replace old with new one\n"
   ]
  },
  {
   "cell_type": "code",
   "execution_count": 36,
   "metadata": {},
   "outputs": [
    {
     "name": "stdout",
     "output_type": "stream",
     "text": [
      "5\n",
      "Hello\n",
      "HELLO\n",
      "hello\n"
     ]
    }
   ],
   "source": [
    "s =\"hello\"\n",
    "print(len(s))#function name(object name)\n",
    "print(s.capitalize())#object nae.method name()\n",
    "print(s.upper())#all are conerted to upper case\n",
    "print(s)#changes are not reflected on original string"
   ]
  },
  {
   "cell_type": "code",
   "execution_count": 35,
   "metadata": {},
   "outputs": [
    {
     "name": "stdout",
     "output_type": "stream",
     "text": [
      "5\n",
      "Hello\n"
     ]
    }
   ],
   "source": [
    "s =\"hello\"\n",
    "print(len(s))#function name(object name)\n",
    "s = s.capitalize()#object nae.method name()\n",
    "print(s)#changes "
   ]
  },
  {
   "cell_type": "code",
   "execution_count": 38,
   "metadata": {},
   "outputs": [
    {
     "name": "stdout",
     "output_type": "stream",
     "text": [
      "True\n",
      "False\n",
      "True\n",
      "False\n",
      "False\n",
      "True\n",
      "False\n",
      "True\n",
      "True\n"
     ]
    }
   ],
   "source": [
    "s1 = \"good\"\n",
    "s2 = \"hello123\"\n",
    "s3 = \"123\"\n",
    "print(s1.isalpha())#true\n",
    "print(s1.isdigit())#false\n",
    "print(s1.isalnum())#true\n",
    "print(s2.isalpha())#false\n",
    "print(s2.isdigit())#false\n",
    "print(s2.isalnum())#true\n",
    "print(s3.isalpha())#false\n",
    "print(s3.isdigit())#true\n",
    "print(s3.isalnum())#true"
   ]
  },
  {
   "cell_type": "code",
   "execution_count": 41,
   "metadata": {},
   "outputs": [
    {
     "name": "stdout",
     "output_type": "stream",
     "text": [
      "False\n",
      "True\n",
      "False\n",
      "True\n"
     ]
    }
   ],
   "source": [
    "s1 =\"aiandml\"\n",
    "s2 =\"AIANDML\"\n",
    "print(s1.isupper())\n",
    "print(s1.islower())\n",
    "print(s2.islower())\n",
    "print(s2.isupper())"
   ]
  },
  {
   "cell_type": "code",
   "execution_count": 45,
   "metadata": {},
   "outputs": [
    {
     "name": "stdout",
     "output_type": "stream",
     "text": [
      "AIANDML\n",
      "aiandml\n",
      "Hai\n"
     ]
    }
   ],
   "source": [
    "s1 =\"aiandml\"\n",
    "s2 =\"AIANDML\"\n",
    "s3=\"hAI\"\n",
    "print(s1.upper())\n",
    "print(s2.lower())\n",
    "print(s3.swapcase())"
   ]
  },
  {
   "cell_type": "code",
   "execution_count": 50,
   "metadata": {},
   "outputs": [
    {
     "data": {
      "text/plain": [
       "3"
      ]
     },
     "execution_count": 50,
     "metadata": {},
     "output_type": "execute_result"
    }
   ],
   "source": [
    "s =\"hello hello hello hell\"\n",
    "s.count(\"hello\")#count return frequency"
   ]
  },
  {
   "cell_type": "code",
   "execution_count": 57,
   "metadata": {},
   "outputs": [
    {
     "name": "stdout",
     "output_type": "stream",
     "text": [
      "['a,b,c,d']\n",
      "['a', 'b', 'c', 'd']\n"
     ]
    }
   ],
   "source": [
    "#split()\n",
    "s.split()\n",
    "s1 = \"a,b,c,d\"\n",
    "print(s1.split())\n",
    "print(s1.split(','))"
   ]
  },
  {
   "cell_type": "code",
   "execution_count": 62,
   "metadata": {},
   "outputs": [
    {
     "name": "stdout",
     "output_type": "stream",
     "text": [
      "asc\n"
     ]
    }
   ],
   "source": [
    "#replace()--> old char to new\n",
    "s = \"abc\"#asc\n",
    "s=s.replace('b','s')\n",
    "print(s)"
   ]
  },
  {
   "cell_type": "code",
   "execution_count": 67,
   "metadata": {},
   "outputs": [
    {
     "name": "stdout",
     "output_type": "stream",
     "text": [
      "enter the postion : 3\n",
      "enter the string : abcabc\n",
      "ababc\n"
     ]
    }
   ],
   "source": [
    "#accept a number(n) from the user and nth position char from string\n",
    "#n = 3\n",
    "#s = abcabc\n",
    "#o/p -->ababc\n",
    "n = int(input(\"enter the postion : \"))\n",
    "s = input(\"enter the string : \")\n",
    "s = s.replace(s[n-1],\"\",1)\n",
    "print(s)"
   ]
  },
  {
   "cell_type": "markdown",
   "metadata": {},
   "source": [
    "### for loop\n",
    "1. for loop with range() function\n",
    "2. for loop with iterable object"
   ]
  },
  {
   "cell_type": "markdown",
   "metadata": {},
   "source": [
    "''' for variable in range '''"
   ]
  },
  {
   "cell_type": "code",
   "execution_count": 69,
   "metadata": {},
   "outputs": [
    {
     "name": "stdout",
     "output_type": "stream",
     "text": [
      "1 2 3 4 5 6 7 8 9 10 "
     ]
    }
   ],
   "source": [
    "# print 1-n numbers on the screen\n",
    "n = 10\n",
    "for i in range(1,n+1):\n",
    "    print(i,end=\" \")\n",
    "i = 1\n",
    "while i:\n",
    "    print(i,end=\" \")\n",
    "    i += 1"
   ]
  },
  {
   "cell_type": "markdown",
   "metadata": {},
   "source": [
    "''' for variables in iterative object '''"
   ]
  },
  {
   "cell_type": "code",
   "execution_count": 70,
   "metadata": {},
   "outputs": [
    {
     "name": "stdout",
     "output_type": "stream",
     "text": [
      "p\n",
      "y\n",
      "t\n",
      "h\n",
      "o\n",
      "n\n"
     ]
    }
   ],
   "source": [
    "s = \"python\"\n",
    "for i in s:\n",
    "    print(i)"
   ]
  },
  {
   "cell_type": "code",
   "execution_count": 74,
   "metadata": {
    "scrolled": true
   },
   "outputs": [
    {
     "name": "stdout",
     "output_type": "stream",
     "text": [
      "p\n",
      "r\n",
      "a\n",
      "n\n",
      "a\n",
      "t\n",
      "h\n",
      "i\n",
      "p\n",
      "r\n",
      "a\n",
      "n\n",
      "a\n",
      "t\n",
      "h\n",
      "i\n"
     ]
    }
   ],
   "source": [
    "#using while loop print all the character\n",
    "s=\"pranathi\"\n",
    "i=0\n",
    "while(i<len(s)):\n",
    "    print(s[i])\n",
    "    i+=1\n",
    "#using for loop but not using iterative object\n",
    "for i in range(0,len(s)):\n",
    "    print(s[i])"
   ]
  },
  {
   "cell_type": "code",
   "execution_count": 77,
   "metadata": {},
   "outputs": [
    {
     "ename": "SyntaxError",
     "evalue": "invalid syntax (<ipython-input-77-75fe0e8df6cc>, line 9)",
     "output_type": "error",
     "traceback": [
      "\u001b[1;36m  File \u001b[1;32m\"<ipython-input-77-75fe0e8df6cc>\"\u001b[1;36m, line \u001b[1;32m9\u001b[0m\n\u001b[1;33m    else if (s>=\"A\" && s<=\"Z\" || s>=\"a\" || s<=\"z\"):\u001b[0m\n\u001b[1;37m       ^\u001b[0m\n\u001b[1;31mSyntaxError\u001b[0m\u001b[1;31m:\u001b[0m invalid syntax\n"
     ]
    }
   ],
   "source": [
    "#Accept a string from the user and count number of vowel,consonants and special characters\n",
    "s = input(\"enter the string : \")\n",
    "vowels = 0\n",
    "consonants = 0\n",
    "chars = 0\n",
    "for i in string:\n",
    "      if(i=='a' or i=='e' or i=='i' or i=='o' or i=='u' or i=='A' or i=='E' or i=='I' or i=='O' or i=='U'):\n",
    "            vowels=vowels+1\n",
    "            else if (s>=\"A\" && s<=\"Z\" || s>=\"a\" || s<=\"z\"):\n",
    "                consonants += 1\n",
    "                else:\n",
    "                    chars +=1\n",
    "print(\"No of Vowel\",vowels)\n",
    "print(\"no of consonants\",consonants)\n",
    "print(\"no of special chars\",chars)\n",
    "        \n",
    "        "
   ]
  },
  {
   "cell_type": "code",
   "execution_count": 79,
   "metadata": {},
   "outputs": [
    {
     "data": {
      "text/plain": [
       "'C:\\\\Users\\\\Sri\\\\Desktop\\\\internship\\\\AIandML\\\\27-05-2020'"
      ]
     },
     "execution_count": 79,
     "metadata": {},
     "output_type": "execute_result"
    }
   ],
   "source": [
    "pwd"
   ]
  },
  {
   "cell_type": "code",
   "execution_count": null,
   "metadata": {},
   "outputs": [],
   "source": []
  }
 ],
 "metadata": {
  "kernelspec": {
   "display_name": "Python 3",
   "language": "python",
   "name": "python3"
  },
  "language_info": {
   "codemirror_mode": {
    "name": "ipython",
    "version": 3
   },
   "file_extension": ".py",
   "mimetype": "text/x-python",
   "name": "python",
   "nbconvert_exporter": "python",
   "pygments_lexer": "ipython3",
   "version": "3.7.4"
  }
 },
 "nbformat": 4,
 "nbformat_minor": 2
}


