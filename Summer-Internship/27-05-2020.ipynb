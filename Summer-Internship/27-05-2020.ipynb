{
 "cells": [
  {
   "cell_type": "markdown",
   "metadata": {},
   "source": [
    "# python programming\n",
    "## python programming\n",
    "### python programming\n",
    "#### python programming\n",
    "##### python programming`\n"
   ]
  },
  {
   "cell_type": "markdown",
   "metadata": {},
   "source": [
    "### List of programming languages:(ordered list)\n",
    "1. python\n",
    "2. java\n",
    "3. c\n",
    "4. c++\n",
    "5. .Net"
   ]
  },
  {
   "cell_type": "markdown",
   "metadata": {},
   "source": [
    "### List of programming languages:(Unordered list)\n",
    "1. python\n",
    "    1. core\n",
    "    2. advance\n",
    "2. java\n",
    "3. c\n",
    "4. c++\n",
    "5. .Net"
   ]
  },
  {
   "cell_type": "markdown",
   "metadata": {},
   "source": [
    "**Python Programming**\n",
    " *python Programming*"
   ]
  },
  {
   "cell_type": "markdown",
   "metadata": {},
   "source": [
    "[click here](https://moodle.dspsinstitute.com/)"
   ]
  },
  {
   "cell_type": "markdown",
   "metadata": {},
   "source": [
    "![image](https://i.ytimg.com/vi/6lt2JfJdGSY/maxresdefault.jpg)"
   ]
  },
  {
   "cell_type": "markdown",
   "metadata": {},
   "source": [
    "<img src=\"https://i.ytimg.com/vi/6lt2JfJdGSY/maxresdefault.jpg\" width =300 height=300>"
   ]
  },
  {
   "cell_type": "code",
   "execution_count": 6,
   "metadata": {},
   "outputs": [
    {
     "name": "stdout",
     "output_type": "stream",
     "text": [
      "<class 'int'> <class 'float'> <class 'complex'>\n"
     ]
    }
   ],
   "source": [
    "a=36 #integer\n",
    "b=23.56 #float\n",
    "c=5+34j #complex number\n",
    "print(type(a),type(b),type(c))"
   ]
  },
  {
   "cell_type": "code",
   "execution_count": 10,
   "metadata": {},
   "outputs": [
    {
     "name": "stdout",
     "output_type": "stream",
     "text": [
      "(10+13j)\n",
      "6.0\n",
      "8.0\n"
     ]
    }
   ],
   "source": [
    "c1=4+5j\n",
    "c2=complex(6,8)\n",
    "print(c1+c2)\n",
    "print(c2.real)# real part of complex number\n",
    "print(c2.imag)# imaginar part of complex number"
   ]
  },
  {
   "cell_type": "code",
   "execution_count": 22,
   "metadata": {},
   "outputs": [
    {
     "name": "stdout",
     "output_type": "stream",
     "text": [
      "Enter value of a 30\n",
      "Enter value of b 5\n",
      "35 25 150 6.0 6 0\n",
      "25,150,6.0,6,0\n"
     ]
    }
   ],
   "source": [
    "#input and output functions in python\n",
    "#input -->input()\n",
    "#output -->print()\n",
    "# default type of an input value is string\n",
    "# we do type conversion to avoid default string\n",
    "a=int(input(\"Enter value of a \"))\n",
    "b=int(input('Enter value of b '))\n",
    "#end-->new line\n",
    "#sep -->space\n",
    "print(a+b,end=\" \")\n",
    "print(a-b,a*b,a/b,a//b,a%b)\n",
    "print(a-b,a*b,a/b,a//b,a%b,sep=\",\")"
   ]
  },
  {
   "cell_type": "markdown",
   "metadata": {},
   "source": [
    "### Operators:symbol which performs some specific tadk\n",
    "### Operands : vallues given to operator known as operands"
   ]
  },
  {
   "cell_type": "code",
   "execution_count": 25,
   "metadata": {},
   "outputs": [
    {
     "name": "stdout",
     "output_type": "stream",
     "text": [
      "Enter value of a 2\n",
      "Enter value of b 4\n",
      "6\n",
      "-2\n",
      "8\n",
      "0.5\n",
      "2\n",
      "0\n",
      "16\n"
     ]
    }
   ],
   "source": [
    "#Arithmetic operators : +,-,*,/,//(floor divison),**(exponent)\n",
    "a=int(input(\"Enter value of a \"))\n",
    "b=int(input('Enter value of b '))\n",
    "print(a + b)\n",
    "print(a - b)\n",
    "print(a * b)\n",
    "print(a / b)#float quotient\n",
    "print(a % b)#remainder\n",
    "print(a // b)#int quotient\n",
    "print(a ** b)# 2^4"
   ]
  },
  {
   "cell_type": "code",
   "execution_count": 27,
   "metadata": {},
   "outputs": [
    {
     "name": "stdout",
     "output_type": "stream",
     "text": [
      "True\n",
      "False\n",
      "True\n",
      "False\n",
      "False\n",
      "True\n"
     ]
    }
   ],
   "source": [
    "#Relational operator: <,>,<=,>=,==,!=\n",
    "print(a < b)#True\n",
    "print(a > b)\n",
    "print(a <= b)\n",
    "print(a >= b)\n",
    "print(a == b)\n",
    "print(a != b)"
   ]
  },
  {
   "cell_type": "code",
   "execution_count": 29,
   "metadata": {},
   "outputs": [
    {
     "name": "stdout",
     "output_type": "stream",
     "text": [
      "True\n",
      "True\n",
      "False\n"
     ]
    }
   ],
   "source": [
    "#Logical operators : and,or,not --->retuen type-->boolean\n",
    "#print(help(\"keywords\"))\n",
    "print(a < b and a>1)\n",
    "print(a < b or a>1)\n",
    "print(not a < b)"
   ]
  },
  {
   "cell_type": "code",
   "execution_count": 30,
   "metadata": {},
   "outputs": [
    {
     "name": "stdout",
     "output_type": "stream",
     "text": [
      "True\n",
      "False\n",
      "False\n",
      "True\n"
     ]
    }
   ],
   "source": [
    "#Membership operators :in,not in\n",
    "list1 = [12,23,34,45,56,67]\n",
    "print(12 in list1)#True\n",
    "print(120 in list1)#False\n",
    "print(12 not in list1)#False\n",
    "print(120 not in list1)#True"
   ]
  },
  {
   "cell_type": "code",
   "execution_count": 31,
   "metadata": {},
   "outputs": [
    {
     "name": "stdout",
     "output_type": "stream",
     "text": [
      "a is less than b\n"
     ]
    }
   ],
   "source": [
    "#Conditional statements:if,else,elif\n",
    "if a < b:\n",
    "    print(\"a is less than b\")\n",
    "elif a > b:\n",
    "    print(\"a is greater than b\")\n",
    "else:\n",
    "    print(\"a or equals to b\")\n"
   ]
  },
  {
   "cell_type": "code",
   "execution_count": 35,
   "metadata": {},
   "outputs": [
    {
     "name": "stdout",
     "output_type": "stream",
     "text": [
      "Enter value of a 2\n",
      "Enter value of b 5\n",
      "Enter value of c 1\n",
      "b is largest = 5\n"
     ]
    }
   ],
   "source": [
    "a=int(input(\"Enter value of a \"))\n",
    "b=int(input('Enter value of b '))\n",
    "c=int(input('Enter value of c '))\n",
    "if a>b and a>c :\n",
    "    print(\"a is largest =\",a)\n",
    "elif b>c :\n",
    "    print(\"b is largest =\",b)  \n",
    "else :\n",
    "    print(\"c is largest =\",c)    "
   ]
  },
  {
   "cell_type": "code",
   "execution_count": 37,
   "metadata": {},
   "outputs": [
    {
     "name": "stdout",
     "output_type": "stream",
     "text": [
      "enter n value25\n",
      "1 2 3 4 5 6 7 8 9 10 11 12 13 14 15 16 17 18 19 20 21 22 23 24 25 "
     ]
    }
   ],
   "source": [
    "#Loops : while,for\n",
    "# print 1 to n values\n",
    "n = int(input(\"enter n value\"))\n",
    "i = 1\n",
    "while i<=n:\n",
    "    print(i,end=\" \")\n",
    "    i += 1#i=i+1\n"
   ]
  },
  {
   "cell_type": "code",
   "execution_count": null,
   "metadata": {},
   "outputs": [],
   "source": []
  }
 ],
 "metadata": {
  "kernelspec": {
   "display_name": "Python 3",
   "language": "python",
   "name": "python3"
  },
  "language_info": {
   "codemirror_mode": {
    "name": "ipython",
    "version": 3
   },
   "file_extension": ".py",
   "mimetype": "text/x-python",
   "name": "python",
   "nbconvert_exporter": "python",
   "pygments_lexer": "ipython3",
   "version": "3.7.4"
  }
 },
 "nbformat": 4,
 "nbformat_minor": 2
}


